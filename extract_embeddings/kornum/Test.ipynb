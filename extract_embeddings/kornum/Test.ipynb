{
 "cells": [
  {
   "metadata": {
    "ExecuteTime": {
     "end_time": "2024-06-04T09:24:49.879980Z",
     "start_time": "2024-06-04T09:24:49.864144Z"
    }
   },
   "cell_type": "code",
   "source": [
    "import pickle\n",
    "import numpy as np\n",
    "from sklearn.neighbors import KernelDensity\n",
    "import matplotlib.pyplot as plt"
   ],
   "id": "c2ea1838f0a4d2a7",
   "outputs": [],
   "execution_count": 29
  },
  {
   "metadata": {
    "ExecuteTime": {
     "end_time": "2024-06-04T08:15:02.302299Z",
     "start_time": "2024-06-04T08:15:02.295958Z"
    }
   },
   "cell_type": "code",
   "source": [
    "tn = 175941\n",
    "tp = 91\n",
    "fn = 407\n",
    "fp = 74\n",
    "accuracy = (tp + tn) / (tp+ tn+ fp+ fn)\n",
    "precision = tp / (tp + fp)\n",
    "recall = tp / (tp + fn)\n",
    "f1 = 2 * (precision * recall) / (precision + recall)\n",
    "print('Accuracy:', accuracy*100)\n",
    "print('Precision:', precision*100)\n",
    "print('Recall:', recall*100)\n",
    "print('F1:', f1*100)"
   ],
   "id": "1163bf5aa38bc3f",
   "outputs": [
    {
     "name": "stdout",
     "output_type": "stream",
     "text": [
      "Accuracy: 99.72749882444919\n",
      "Precision: 55.15151515151515\n",
      "Recall: 18.27309236947791\n",
      "F1: 27.45098039215686\n"
     ]
    }
   ],
   "execution_count": 5
  },
  {
   "metadata": {
    "ExecuteTime": {
     "end_time": "2024-06-04T09:22:00.540767Z",
     "start_time": "2024-06-04T09:22:00.269547Z"
    }
   },
   "cell_type": "code",
   "source": [
    "import matplotlib.pyplot as plt\n",
    "import numpy as np\n",
    "import seaborn as sns\n",
    "\n",
    "# Confusion matrix data extracted from the image description and visual inspection\n",
    "labels = [\"not art.\", \"art.\"]\n",
    "confusion_matrix = np.array([\n",
    "    [175941,  74],\n",
    "    [ 407,  91],\n",
    "])\n",
    "\n",
    "plt.figure()\n",
    "sns.heatmap(confusion_matrix, annot=True, fmt='d', cmap='Blues', xticklabels=labels, yticklabels=labels)\n",
    "plt.xlabel('Predicted label')\n",
    "plt.ylabel('True label')\n",
    "plt.title('Confusion Matrix')\n",
    "plt.savefig('baseline_lseqsleepnet_cm.png', dpi=500)\n",
    "plt.show()\n"
   ],
   "id": "a7f40edfa8c7c6ca",
   "outputs": [
    {
     "data": {
      "text/plain": [
       "<Figure size 640x480 with 2 Axes>"
      ],
      "image/png": "[encoded data removed]"
     },
     "metadata": {},
     "output_type": "display_data"
    }
   ],
   "execution_count": 28
  },
  {
   "metadata": {
    "ExecuteTime": {
     "end_time": "2024-06-04T08:23:50.469200Z",
     "start_time": "2024-06-04T08:23:50.453570Z"
    }
   },
   "cell_type": "code",
   "source": [
    "import h5py\n",
    "f = h5py.File(r'C:\\Users\\lucas\\PycharmProjects\\02466-spindle\\extract_embeddings\\kornum\\n0001_eeg1.mat')\n"
   ],
   "id": "ee8f711810d08180",
   "outputs": [],
   "execution_count": 3
  },
  {
   "metadata": {},
   "cell_type": "code",
   "outputs": [
    {
     "data": {
      "text/plain": [
       "<KeysViewHDF5 ['X1', 'X2', 'label', 'y']>"
      ]
     },
     "execution_count": 4,
     "metadata": {},
     "output_type": "execute_result"
    }
   ],
   "execution_count": 4,
   "source": "f.keys()",
   "id": "ffb165cd193bebf0"
  },
  {
   "metadata": {},
   "cell_type": "code",
   "outputs": [
    {
     "data": {
      "text/plain": [
       "((512, 3601), (129, 17, 3601), (1, 3601), (4, 3601))"
      ]
     },
     "execution_count": 12,
     "metadata": {},
     "output_type": "execute_result"
    }
   ],
   "execution_count": 12,
   "source": "f['X1'].shape, f['X2'].shape, f['label'].shape, f['y'].shape",
   "id": "acde98b88954390b"
  },
  {
   "metadata": {},
   "cell_type": "code",
   "outputs": [
    {
     "ename": "AttributeError",
     "evalue": "'DataFrame' object has no attribute 'summary'",
     "output_type": "error",
     "traceback": [
      "\u001B[1;31m---------------------------------------------------------------------------\u001B[0m",
      "\u001B[1;31mAttributeError\u001B[0m                            Traceback (most recent call last)",
      "\u001B[1;32m~\\AppData\\Local\\Temp\\ipykernel_11144\\3691295144.py\u001B[0m in \u001B[0;36m?\u001B[1;34m()\u001B[0m\n\u001B[1;32m----> 2\u001B[1;33m \u001B[1;32mimport\u001B[0m \u001B[0mpandas\u001B[0m \u001B[1;32mas\u001B[0m \u001B[0mpd\u001B[0m\u001B[1;33m\u001B[0m\u001B[1;33m\u001B[0m\u001B[0m\n\u001B[0m\u001B[0;32m      3\u001B[0m \u001B[0mpd\u001B[0m\u001B[1;33m.\u001B[0m\u001B[0mDataFrame\u001B[0m\u001B[1;33m(\u001B[0m\u001B[0mf\u001B[0m\u001B[1;33m[\u001B[0m\u001B[1;34m'label'\u001B[0m\u001B[1;33m]\u001B[0m\u001B[1;33m[\u001B[0m\u001B[1;33m:\u001B[0m\u001B[1;33m]\u001B[0m\u001B[1;33m)\u001B[0m\u001B[1;33m.\u001B[0m\u001B[0msummary\u001B[0m\u001B[1;33m(\u001B[0m\u001B[1;33m)\u001B[0m\u001B[1;33m\u001B[0m\u001B[1;33m\u001B[0m\u001B[0m\n",
      "\u001B[1;32m~\\PycharmProjects\\DTU_All_Of_Them\\venv\\lib\\site-packages\\pandas\\core\\generic.py\u001B[0m in \u001B[0;36m?\u001B[1;34m(self, name)\u001B[0m\n\u001B[0;32m   6295\u001B[0m             \u001B[1;32mand\u001B[0m \u001B[0mname\u001B[0m \u001B[1;32mnot\u001B[0m \u001B[1;32min\u001B[0m \u001B[0mself\u001B[0m\u001B[1;33m.\u001B[0m\u001B[0m_accessors\u001B[0m\u001B[1;33m\u001B[0m\u001B[1;33m\u001B[0m\u001B[0m\n\u001B[0;32m   6296\u001B[0m             \u001B[1;32mand\u001B[0m \u001B[0mself\u001B[0m\u001B[1;33m.\u001B[0m\u001B[0m_info_axis\u001B[0m\u001B[1;33m.\u001B[0m\u001B[0m_can_hold_identifiers_and_holds_name\u001B[0m\u001B[1;33m(\u001B[0m\u001B[0mname\u001B[0m\u001B[1;33m)\u001B[0m\u001B[1;33m\u001B[0m\u001B[1;33m\u001B[0m\u001B[0m\n\u001B[0;32m   6297\u001B[0m         ):\n\u001B[0;32m   6298\u001B[0m             \u001B[1;32mreturn\u001B[0m \u001B[0mself\u001B[0m\u001B[1;33m[\u001B[0m\u001B[0mname\u001B[0m\u001B[1;33m]\u001B[0m\u001B[1;33m\u001B[0m\u001B[1;33m\u001B[0m\u001B[0m\n\u001B[1;32m-> 6299\u001B[1;33m         \u001B[1;32mreturn\u001B[0m \u001B[0mobject\u001B[0m\u001B[1;33m.\u001B[0m\u001B[0m__getattribute__\u001B[0m\u001B[1;33m(\u001B[0m\u001B[0mself\u001B[0m\u001B[1;33m,\u001B[0m \u001B[0mname\u001B[0m\u001B[1;33m)\u001B[0m\u001B[1;33m\u001B[0m\u001B[1;33m\u001B[0m\u001B[0m\n\u001B[0m",
      "\u001B[1;31mAttributeError\u001B[0m: 'DataFrame' object has no attribute 'summary'"
     ]
    }
   ],
   "execution_count": 15,
   "source": [
    "import pandas as pd\n",
    "pd.DataFrame(f['label'][:])"
   ],
   "id": "42f2571372f555c5"
  },
  {
   "metadata": {
    "ExecuteTime": {
     "end_time": "2024-06-04T13:08:04.796151Z",
     "start_time": "2024-06-04T13:08:03.699820Z"
    }
   },
   "cell_type": "code",
   "source": [
    "import pickle\n",
    "\n",
    "import numpy as np\n",
    "from sklearn.neighbors import KernelDensity\n",
    "\n",
    "validation_embedding_path = r'C:\\Users\\lucas\\PycharmProjects\\02466-spindle\\extract_embeddings\\kornum\\validate_embeddings.pkl'\n",
    "with open(validation_embedding_path, 'rb') as file:\n",
    "    validation_embeddings = pickle.load(file)"
   ],
   "id": "48f9f0e5874c1f7a",
   "outputs": [],
   "execution_count": 32
  },
  {
   "metadata": {
    "ExecuteTime": {
     "end_time": "2024-06-04T13:08:07.083439Z",
     "start_time": "2024-06-04T13:08:06.371663Z"
    }
   },
   "cell_type": "code",
   "source": [
    "\n",
    "\n",
    "# Load the embeddings from the provided .pkl file\n",
    "test_embedding_path = r'C:\\Users\\lucas\\PycharmProjects\\02466-spindle\\extract_embeddings\\kornum\\test_embeddings.pkl'\n",
    "with open(test_embedding_path, 'rb') as file:\n",
    "    test_embeddings = pickle.load(file)"
   ],
   "id": "1f9660e989a425fd",
   "outputs": [],
   "execution_count": 33
  },
  {
   "metadata": {
    "ExecuteTime": {
     "end_time": "2024-06-04T13:08:18.563461Z",
     "start_time": "2024-06-04T13:08:18.556471Z"
    }
   },
   "cell_type": "code",
   "source": "validation_embeddings.shape, test_embeddings.shape",
   "id": "8bcf01b01b794128",
   "outputs": [
    {
     "data": {
      "text/plain": [
       "((71164, 13650), (43192, 13650))"
      ]
     },
     "execution_count": 34,
     "metadata": {},
     "output_type": "execute_result"
    }
   ],
   "execution_count": 34
  },
  {
   "metadata": {},
   "cell_type": "markdown",
   "source": [
    "Should get same number of samples as in the excel sheet under Validation (ST, S-L, Grieger) without artifacts for validation\n",
    "For test, its including the artifact column under the Test in the excel sheet"
   ],
   "id": "d12f4d139de9de51"
  },
  {
   "metadata": {},
   "cell_type": "code",
   "outputs": [],
   "execution_count": null,
   "source": "",
   "id": "ad9bc57ca9215fa1"
  },
  {
   "metadata": {
    "ExecuteTime": {
     "end_time": "2024-06-04T14:28:07.370519Z",
     "start_time": "2024-06-04T14:28:07.360332Z"
    }
   },
   "cell_type": "code",
   "source": "validation_embeddings.shape[0]*validation_embeddings.shape[1]",
   "id": "80b48000faa91e13",
   "outputs": [
    {
     "data": {
      "text/plain": [
       "971388600"
      ]
     },
     "execution_count": 35,
     "metadata": {},
     "output_type": "execute_result"
    }
   ],
   "execution_count": 35
  }
 ],
 "metadata": {
  "kernelspec": {
   "display_name": "Python 3",
   "language": "python",
   "name": "python3"
  },
  "language_info": {
   "codemirror_mode": {
    "name": "ipython",
    "version": 2
   },
   "file_extension": ".py",
   "mimetype": "text/x-python",
   "name": "python",
   "nbconvert_exporter": "python",
   "pygments_lexer": "ipython2",
   "version": "2.7.6"
  }
 },
 "nbformat": 4,
 "nbformat_minor": 5
}
