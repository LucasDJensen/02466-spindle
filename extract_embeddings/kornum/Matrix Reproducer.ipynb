{
 "cells": [
  {
   "metadata": {},
   "cell_type": "code",
   "execution_count": null,
   "source": [
    "import matplotlib.pyplot as plt\n",
    "import numpy as np\n",
    "import seaborn as sns\n",
    "\n",
    "# Confusion matrix data extracted from the image description and visual inspection\n",
    "labels = [\"not art.\", \"art.\"]\n",
    "confusion_matrix = np.array([\n",
    "    [175941, 74],\n",
    "    [407, 91],\n",
    "])\n",
    "\n",
    "plt.figure()\n",
    "sns.heatmap(confusion_matrix, annot=True, fmt='d', cmap='Blues', xticklabels=labels, yticklabels=labels)\n",
    "plt.xlabel('Predicted label')\n",
    "plt.ylabel('True label')\n",
    "plt.title('Confusion Matrix')\n",
    "plt.savefig('baseline_lseqsleepnet_cm.png', dpi=500)\n",
    "plt.show()\n"
   ],
   "id": "eb6b0d957e9d0309",
   "outputs": []
  },
  {
   "cell_type": "code",
   "execution_count": null,
   "id": "initial_id",
   "metadata": {
    "collapsed": true
   },
   "source": [
    "import matplotlib.pyplot as plt\n",
    "import numpy as np\n",
    "import seaborn as sns\n",
    "# Create the confusion matrix again\n",
    "cm = np.array([[63992, 1281, 1153],\n",
    "               [1072, 9724, 567],\n",
    "               [3625, 847, 93709]])\n",
    "\n",
    "# Create a heatmap\n",
    "plt.figure(figsize=(8, 6))\n",
    "sns.heatmap(cm, annot=True, fmt='d', cmap='Blues', xticklabels=['NREM', 'REM', 'WAKE'], yticklabels=['NREM', 'REM', 'WAKE'])\n",
    "plt.xlabel('Predicted label')\n",
    "plt.ylabel('True label')\n",
    "plt.title('Confusion Matrix')\n",
    "plt.savefig('baseline_spindle_cm_sleep_scoring_kornum.png', dpi=500)\n",
    "plt.show()\n"
   ],
   "outputs": []
  },
  {
   "metadata": {},
   "cell_type": "code",
   "execution_count": null,
   "source": [
    "# Create the confusion matrix again\n",
    "cm = np.array([[12497, 435, 118],\n",
    "               [0, 2353, 15],\n",
    "               [247, 95, 15736]])\n",
    "\n",
    "# Create a heatmap\n",
    "plt.figure(figsize=(8, 6))\n",
    "sns.heatmap(cm, annot=True, fmt='d', cmap='Blues', xticklabels=['NREM', 'REM', 'WAKE'], yticklabels=['NREM', 'REM', 'WAKE'])\n",
    "plt.xlabel('Predicted label')\n",
    "plt.ylabel('True label')\n",
    "plt.title('Confusion Matrix')\n",
    "plt.savefig('baseline_spindle_cm_sleep_scoring_brown.png', dpi=500)\n",
    "plt.show()\n"
   ],
   "id": "bc2c8f4e6687a13c",
   "outputs": []
  },
  {
   "metadata": {},
   "cell_type": "markdown",
   "source": "# L-SeqSleepNet - Kornum",
   "id": "6e6d30254b6964dd"
  },
  {
   "metadata": {
    "ExecuteTime": {
     "end_time": "2024-06-14T12:29:26.029337Z",
     "start_time": "2024-06-14T12:29:23.984475Z"
    }
   },
   "cell_type": "code",
   "source": [
    "import matplotlib.pyplot as plt\n",
    "import numpy as np\n",
    "import seaborn as sns\n",
    "# Create the confusion matrix again\n",
    "cm = np.array([[61730, 1487, 843],\n",
    "               [2428, 9903, 630],\n",
    "               [3230, 617, 95147]])\n",
    "\n",
    "# Create a heatmap\n",
    "plt.figure(figsize=(8, 6))\n",
    "sns.heatmap(cm, annot=True, fmt='d', cmap='Blues', xticklabels=['NREM', 'REM', 'WAKE'], yticklabels=['NREM', 'REM', 'WAKE'])\n",
    "plt.xlabel('Predicted label')\n",
    "plt.ylabel('True label')\n",
    "plt.title('Confusion Matrix')\n",
    "plt.savefig('baseline_lseqsleepnet_cm_sleep_scoring_kornum.png', dpi=500)\n",
    "plt.show()\n"
   ],
   "id": "16ff443b7957f857",
   "execution_count": 3,
   "outputs": []
  }
 ],
 "metadata": {
  "kernelspec": {
   "display_name": "Python 3",
   "language": "python",
   "name": "python3"
  },
  "language_info": {
   "codemirror_mode": {
    "name": "ipython",
    "version": 2
   },
   "file_extension": ".py",
   "mimetype": "text/x-python",
   "name": "python",
   "nbconvert_exporter": "python",
   "pygments_lexer": "ipython2",
   "version": "2.7.6"
  }
 },
 "nbformat": 4,
 "nbformat_minor": 5
}
