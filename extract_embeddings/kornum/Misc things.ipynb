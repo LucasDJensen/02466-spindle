{
 "cells": [
  {
   "metadata": {},
   "cell_type": "markdown",
   "source": "# Compute Accuracy, Precision, Recall, F1",
   "id": "34f434e946fe844a"
  },
  {
   "metadata": {
    "ExecuteTime": {
     "end_time": "2024-06-04T08:15:02.302299Z",
     "start_time": "2024-06-04T08:15:02.295958Z"
    }
   },
   "cell_type": "code",
   "source": [
    "tn = 175941\n",
    "tp = 91\n",
    "fn = 407\n",
    "fp = 74\n",
    "accuracy = (tp + tn) / (tp + tn + fp + fn)\n",
    "precision = tp / (tp + fp)\n",
    "recall = tp / (tp + fn)\n",
    "f1 = 2 * (precision * recall) / (precision + recall)\n",
    "print('Accuracy:', accuracy * 100)\n",
    "print('Precision:', precision * 100)\n",
    "print('Recall:', recall * 100)\n",
    "print('F1:', f1 * 100)"
   ],
   "id": "1163bf5aa38bc3f",
   "outputs": [
    {
     "name": "stdout",
     "output_type": "stream",
     "text": [
      "Accuracy: 99.72749882444919\n",
      "Precision: 55.15151515151515\n",
      "Recall: 18.27309236947791\n",
      "F1: 27.45098039215686\n"
     ]
    }
   ],
   "execution_count": 5
  },
  {
   "metadata": {},
   "cell_type": "markdown",
   "source": [
    "Should get same number of samples as in the excel sheet under Validation (ST, S-L, Grieger) without artifacts for validation\n",
    "For test, its including the artifact column under the Test in the excel sheet"
   ],
   "id": "d12f4d139de9de51"
  },
  {
   "metadata": {},
   "cell_type": "markdown",
   "source": "# Check distribution of true labels from the embeddings",
   "id": "5383b93a920198b9"
  },
  {
   "metadata": {
    "ExecuteTime": {
     "end_time": "2024-06-12T09:20:09.702711Z",
     "start_time": "2024-06-12T09:20:09.687086Z"
    }
   },
   "cell_type": "code",
   "source": [
    "import numpy as np\n",
    "\n",
    "file = 'embeddings/true_labels.npy'\n",
    "true_labels = np.asarray(np.load(file), dtype=np.int32)\n",
    "true_labels.shape, np.sum(true_labels, axis=0)"
   ],
   "id": "26d819a25513e80d",
   "outputs": [
    {
     "data": {
      "text/plain": [
       "((176700, 4), array([66426, 11363, 98181,   495]))"
      ]
     },
     "execution_count": 4,
     "metadata": {},
     "output_type": "execute_result"
    }
   ],
   "execution_count": 4
  },
  {
   "metadata": {
    "ExecuteTime": {
     "end_time": "2024-06-12T09:20:11.867381Z",
     "start_time": "2024-06-12T09:20:11.820569Z"
    }
   },
   "cell_type": "code",
   "source": [
    "art_noart = np.array([1 if x[-1] == 1 else 0 for x in true_labels])\n",
    "art_noart.shape, art_noart.sum()"
   ],
   "id": "e6ff3399d920f00f",
   "outputs": [
    {
     "data": {
      "text/plain": [
       "((176700,), 495)"
      ]
     },
     "execution_count": 5,
     "metadata": {},
     "output_type": "execute_result"
    }
   ],
   "execution_count": 5
  },
  {
   "metadata": {},
   "cell_type": "markdown",
   "source": "# L-SeqSleepNet - Kornum - Sleep Scoring",
   "id": "c37543002c2025f4"
  },
  {
   "metadata": {},
   "cell_type": "code",
   "outputs": [],
   "execution_count": null,
   "source": [
    "import numpy as np\n",
    "\n",
    "# Define the confusion matrix from the image\n",
    "confusion_matrix = np.array([\n",
    "    [95166, 2549, 490],\n",
    "    [3745, 61064, 1638],\n",
    "    [793, 697, 9873]\n",
    "])\n",
    "\n",
    "# Extract true positives, false positives, false negatives for each class\n",
    "TP = np.diag(confusion_matrix)\n",
    "FP = np.sum(confusion_matrix, axis=0) - TP\n",
    "FN = np.sum(confusion_matrix, axis=1) - TP\n",
    "TN = np.sum(confusion_matrix) - (TP + FP + FN)\n",
    "\n",
    "# Calculate accuracy, precision, recall, and F1-score for each class\n",
    "accuracy = np.sum(TP) / np.sum(confusion_matrix)\n",
    "precision = TP / (TP + FP)\n",
    "recall = TP / (TP + FN)\n",
    "f1_score = 2 * (precision * recall) / (precision + recall)\n",
    "\n",
    "import pandas as pd\n",
    "\n",
    "# Create a dataframe to display the results\n",
    "results = pd.DataFrame({\n",
    "    'Class': ['WAKE', 'NREM', 'REM'],\n",
    "    'Accuracy': [accuracy] * 3,\n",
    "    'Precision': precision,\n",
    "    'Recall': recall,\n",
    "    'F1-Score': f1_score\n",
    "})\n",
    "\n",
    "# import ace_tools as tools; tools.display_dataframe_to_user(name=\"Confusion Matrix Analysis\", dataframe=results)\n",
    "\n",
    "round(results, 3)"
   ],
   "id": "bca6c3da0772bb0c"
  },
  {
   "metadata": {},
   "cell_type": "markdown",
   "source": "# L-SeqSleepNet - Kornum - Artifact Detection",
   "id": "d79e70791f610e0b"
  },
  {
   "metadata": {
    "ExecuteTime": {
     "end_time": "2024-06-12T12:45:48.765708Z",
     "start_time": "2024-06-12T12:45:48.751203Z"
    }
   },
   "cell_type": "code",
   "source": [
    "# Define the confusion matrix from the new image\n",
    "confusion_matrix = np.array([\n",
    "    [175941, 74],\n",
    "    [407, 91]\n",
    "])\n",
    "\n",
    "# Extract true positives, false positives, false negatives for each class\n",
    "TP = np.diag(confusion_matrix)\n",
    "FP = np.sum(confusion_matrix, axis=0) - TP\n",
    "FN = np.sum(confusion_matrix, axis=1) - TP\n",
    "TN = np.sum(confusion_matrix) - (TP + FP + FN)\n",
    "\n",
    "# Calculate accuracy, precision, recall, and F1-score for each class\n",
    "accuracy = np.sum(TP) / np.sum(confusion_matrix)\n",
    "precision = TP / (TP + FP)\n",
    "recall = TP / (TP + FN)\n",
    "f1_score = 2 * (precision * recall) / (precision + recall)\n",
    "\n",
    "# Create a dataframe to display the results\n",
    "results = pd.DataFrame({\n",
    "    'Class': ['not art.', 'art.'],\n",
    "    'Accuracy': [accuracy] * 2,\n",
    "    'Precision': precision,\n",
    "    'Recall': recall,\n",
    "    'F1-Score': f1_score\n",
    "})\n",
    "\n",
    "round(results, 3)"
   ],
   "id": "46708c5f309ce3e3",
   "outputs": [
    {
     "data": {
      "text/plain": [
       "      Class  Accuracy  Precision  Recall  F1-Score\n",
       "0  not art.     0.997      0.998   1.000     0.999\n",
       "1      art.     0.997      0.552   0.183     0.275"
      ],
      "text/html": [
       "<div>\n",
       "<style scoped>\n",
       "    .dataframe tbody tr th:only-of-type {\n",
       "        vertical-align: middle;\n",
       "    }\n",
       "\n",
       "    .dataframe tbody tr th {\n",
       "        vertical-align: top;\n",
       "    }\n",
       "\n",
       "    .dataframe thead th {\n",
       "        text-align: right;\n",
       "    }\n",
       "</style>\n",
       "<table border=\"1\" class=\"dataframe\">\n",
       "  <thead>\n",
       "    <tr style=\"text-align: right;\">\n",
       "      <th></th>\n",
       "      <th>Class</th>\n",
       "      <th>Accuracy</th>\n",
       "      <th>Precision</th>\n",
       "      <th>Recall</th>\n",
       "      <th>F1-Score</th>\n",
       "    </tr>\n",
       "  </thead>\n",
       "  <tbody>\n",
       "    <tr>\n",
       "      <th>0</th>\n",
       "      <td>not art.</td>\n",
       "      <td>0.997</td>\n",
       "      <td>0.998</td>\n",
       "      <td>1.000</td>\n",
       "      <td>0.999</td>\n",
       "    </tr>\n",
       "    <tr>\n",
       "      <th>1</th>\n",
       "      <td>art.</td>\n",
       "      <td>0.997</td>\n",
       "      <td>0.552</td>\n",
       "      <td>0.183</td>\n",
       "      <td>0.275</td>\n",
       "    </tr>\n",
       "  </tbody>\n",
       "</table>\n",
       "</div>"
      ]
     },
     "execution_count": 28,
     "metadata": {},
     "output_type": "execute_result"
    }
   ],
   "execution_count": 28
  },
  {
   "metadata": {},
   "cell_type": "markdown",
   "source": "# SPINDLE - Kornum - Sleep Scoring",
   "id": "f15cf4979a50a6ce"
  },
  {
   "metadata": {
    "ExecuteTime": {
     "end_time": "2024-06-12T12:44:31.803363Z",
     "start_time": "2024-06-12T12:44:31.788020Z"
    }
   },
   "cell_type": "code",
   "source": [
    "import numpy as np\n",
    "\n",
    "# Define the confusion matrix from the image\n",
    "confusion_matrix = np.array([\n",
    "    [63992, 1281, 1153],\n",
    "    [1072, 9724, 567],\n",
    "    [3625, 847, 93709]\n",
    "])\n",
    "\n",
    "# Extract true positives, false positives, false negatives for each class\n",
    "TP = np.diag(confusion_matrix)\n",
    "FP = np.sum(confusion_matrix, axis=0) - TP\n",
    "FN = np.sum(confusion_matrix, axis=1) - TP\n",
    "TN = np.sum(confusion_matrix) - (TP + FP + FN)\n",
    "\n",
    "# Calculate accuracy, precision, recall, and F1-score for each class\n",
    "accuracy = np.sum(TP) / np.sum(confusion_matrix)\n",
    "precision = TP / (TP + FP)\n",
    "recall = TP / (TP + FN)\n",
    "f1_score = 2 * (precision * recall) / (precision + recall)\n",
    "\n",
    "import pandas as pd\n",
    "\n",
    "# Create a dataframe to display the results\n",
    "results = pd.DataFrame({\n",
    "    'Class': ['NREM', 'REM', 'WAKE'],\n",
    "    'Accuracy': [accuracy] * 3,\n",
    "    'Precision': precision,\n",
    "    'Recall': recall,\n",
    "    'F1-Score': f1_score\n",
    "})\n",
    "\n",
    "# import ace_tools as tools; tools.display_dataframe_to_user(name=\"Confusion Matrix Analysis\", dataframe=results)\n",
    "\n",
    "round(results, 3)"
   ],
   "id": "a0dfa0aa6b0aa181",
   "outputs": [
    {
     "data": {
      "text/plain": [
       "  Class  Accuracy  Precision  Recall  F1-Score\n",
       "0  NREM     0.951      0.932   0.963     0.947\n",
       "1   REM     0.951      0.820   0.856     0.838\n",
       "2  WAKE     0.951      0.982   0.954     0.968"
      ],
      "text/html": [
       "<div>\n",
       "<style scoped>\n",
       "    .dataframe tbody tr th:only-of-type {\n",
       "        vertical-align: middle;\n",
       "    }\n",
       "\n",
       "    .dataframe tbody tr th {\n",
       "        vertical-align: top;\n",
       "    }\n",
       "\n",
       "    .dataframe thead th {\n",
       "        text-align: right;\n",
       "    }\n",
       "</style>\n",
       "<table border=\"1\" class=\"dataframe\">\n",
       "  <thead>\n",
       "    <tr style=\"text-align: right;\">\n",
       "      <th></th>\n",
       "      <th>Class</th>\n",
       "      <th>Accuracy</th>\n",
       "      <th>Precision</th>\n",
       "      <th>Recall</th>\n",
       "      <th>F1-Score</th>\n",
       "    </tr>\n",
       "  </thead>\n",
       "  <tbody>\n",
       "    <tr>\n",
       "      <th>0</th>\n",
       "      <td>NREM</td>\n",
       "      <td>0.951</td>\n",
       "      <td>0.932</td>\n",
       "      <td>0.963</td>\n",
       "      <td>0.947</td>\n",
       "    </tr>\n",
       "    <tr>\n",
       "      <th>1</th>\n",
       "      <td>REM</td>\n",
       "      <td>0.951</td>\n",
       "      <td>0.820</td>\n",
       "      <td>0.856</td>\n",
       "      <td>0.838</td>\n",
       "    </tr>\n",
       "    <tr>\n",
       "      <th>2</th>\n",
       "      <td>WAKE</td>\n",
       "      <td>0.951</td>\n",
       "      <td>0.982</td>\n",
       "      <td>0.954</td>\n",
       "      <td>0.968</td>\n",
       "    </tr>\n",
       "  </tbody>\n",
       "</table>\n",
       "</div>"
      ]
     },
     "execution_count": 27,
     "metadata": {},
     "output_type": "execute_result"
    }
   ],
   "execution_count": 27
  },
  {
   "metadata": {},
   "cell_type": "markdown",
   "source": "# SPINDLE - Brown - Sleep Scoring",
   "id": "624d844fc44aa7c6"
  },
  {
   "metadata": {
    "ExecuteTime": {
     "end_time": "2024-06-12T12:16:45.815918Z",
     "start_time": "2024-06-12T12:16:45.800493Z"
    }
   },
   "cell_type": "code",
   "source": [
    "import numpy as np\n",
    "\n",
    "# Define the confusion matrix from the image\n",
    "confusion_matrix = np.array([\n",
    "    [12497, 435, 118],\n",
    "    [0, 2353, 15],\n",
    "    [247, 95, 15736]\n",
    "])\n",
    "\n",
    "# Extract true positives, false positives, false negatives for each class\n",
    "TP = np.diag(confusion_matrix)\n",
    "FP = np.sum(confusion_matrix, axis=0) - TP\n",
    "FN = np.sum(confusion_matrix, axis=1) - TP\n",
    "TN = np.sum(confusion_matrix) - (TP + FP + FN)\n",
    "\n",
    "# Calculate accuracy, precision, recall, and F1-score for each class\n",
    "accuracy = np.sum(TP) / np.sum(confusion_matrix)\n",
    "precision = TP / (TP + FP)\n",
    "recall = TP / (TP + FN)\n",
    "f1_score = 2 * (precision * recall) / (precision + recall)\n",
    "\n",
    "import pandas as pd\n",
    "\n",
    "# Create a dataframe to display the results\n",
    "results = pd.DataFrame({\n",
    "    'Class': ['NREM', 'REM', 'WAKE'],\n",
    "    'Accuracy': [accuracy] * 3,\n",
    "    'Precision': precision,\n",
    "    'Recall': recall,\n",
    "    'F1-Score': f1_score\n",
    "})\n",
    "\n",
    "# import ace_tools as tools; tools.display_dataframe_to_user(name=\"Confusion Matrix Analysis\", dataframe=results)\n",
    "\n",
    "round(results, 3)"
   ],
   "id": "8bb0a9fd40431855",
   "outputs": [
    {
     "data": {
      "text/plain": [
       "  Class  Accuracy  Precision  Recall  F1-Score\n",
       "0  NREM     0.971      0.981   0.958     0.969\n",
       "1   REM     0.971      0.816   0.994     0.896\n",
       "2  WAKE     0.971      0.992   0.979     0.985"
      ],
      "text/html": [
       "<div>\n",
       "<style scoped>\n",
       "    .dataframe tbody tr th:only-of-type {\n",
       "        vertical-align: middle;\n",
       "    }\n",
       "\n",
       "    .dataframe tbody tr th {\n",
       "        vertical-align: top;\n",
       "    }\n",
       "\n",
       "    .dataframe thead th {\n",
       "        text-align: right;\n",
       "    }\n",
       "</style>\n",
       "<table border=\"1\" class=\"dataframe\">\n",
       "  <thead>\n",
       "    <tr style=\"text-align: right;\">\n",
       "      <th></th>\n",
       "      <th>Class</th>\n",
       "      <th>Accuracy</th>\n",
       "      <th>Precision</th>\n",
       "      <th>Recall</th>\n",
       "      <th>F1-Score</th>\n",
       "    </tr>\n",
       "  </thead>\n",
       "  <tbody>\n",
       "    <tr>\n",
       "      <th>0</th>\n",
       "      <td>NREM</td>\n",
       "      <td>0.971</td>\n",
       "      <td>0.981</td>\n",
       "      <td>0.958</td>\n",
       "      <td>0.969</td>\n",
       "    </tr>\n",
       "    <tr>\n",
       "      <th>1</th>\n",
       "      <td>REM</td>\n",
       "      <td>0.971</td>\n",
       "      <td>0.816</td>\n",
       "      <td>0.994</td>\n",
       "      <td>0.896</td>\n",
       "    </tr>\n",
       "    <tr>\n",
       "      <th>2</th>\n",
       "      <td>WAKE</td>\n",
       "      <td>0.971</td>\n",
       "      <td>0.992</td>\n",
       "      <td>0.979</td>\n",
       "      <td>0.985</td>\n",
       "    </tr>\n",
       "  </tbody>\n",
       "</table>\n",
       "</div>"
      ]
     },
     "execution_count": 18,
     "metadata": {},
     "output_type": "execute_result"
    }
   ],
   "execution_count": 18
  },
  {
   "metadata": {},
   "cell_type": "markdown",
   "source": "# SPINDLE - Kornum - Artifact Detection",
   "id": "fb2a1d83b0bdbcbb"
  },
  {
   "metadata": {
    "ExecuteTime": {
     "end_time": "2024-06-12T12:41:13.445920Z",
     "start_time": "2024-06-12T12:41:13.429989Z"
    }
   },
   "cell_type": "code",
   "source": [
    "# Define the confusion matrix from the new image\n",
    "confusion_matrix = np.array([\n",
    "    [150683, 25287],\n",
    "    [112, 383]\n",
    "])\n",
    "\n",
    "# Extract true positives, false positives, false negatives for each class\n",
    "TP = np.diag(confusion_matrix)\n",
    "FP = np.sum(confusion_matrix, axis=0) - TP\n",
    "FN = np.sum(confusion_matrix, axis=1) - TP\n",
    "TN = np.sum(confusion_matrix) - (TP + FP + FN)\n",
    "\n",
    "# Calculate accuracy, precision, recall, and F1-score for each class\n",
    "accuracy = np.sum(TP) / np.sum(confusion_matrix)\n",
    "precision = TP / (TP + FP)\n",
    "recall = TP / (TP + FN)\n",
    "f1_score = 2 * (precision * recall) / (precision + recall)\n",
    "\n",
    "# Create a dataframe to display the results\n",
    "results = pd.DataFrame({\n",
    "    'Class': ['not art.', 'art.'],\n",
    "    'Accuracy': [accuracy] * 2,\n",
    "    'Precision': precision,\n",
    "    'Recall': recall,\n",
    "    'F1-Score': f1_score\n",
    "})\n",
    "\n",
    "round(results, 3)"
   ],
   "id": "712a8b55ae098119",
   "outputs": [
    {
     "data": {
      "text/plain": [
       "      Class  Accuracy  Precision  Recall  F1-Score\n",
       "0  not art.     0.856      0.999   0.856     0.922\n",
       "1      art.     0.856      0.015   0.774     0.029"
      ],
      "text/html": [
       "<div>\n",
       "<style scoped>\n",
       "    .dataframe tbody tr th:only-of-type {\n",
       "        vertical-align: middle;\n",
       "    }\n",
       "\n",
       "    .dataframe tbody tr th {\n",
       "        vertical-align: top;\n",
       "    }\n",
       "\n",
       "    .dataframe thead th {\n",
       "        text-align: right;\n",
       "    }\n",
       "</style>\n",
       "<table border=\"1\" class=\"dataframe\">\n",
       "  <thead>\n",
       "    <tr style=\"text-align: right;\">\n",
       "      <th></th>\n",
       "      <th>Class</th>\n",
       "      <th>Accuracy</th>\n",
       "      <th>Precision</th>\n",
       "      <th>Recall</th>\n",
       "      <th>F1-Score</th>\n",
       "    </tr>\n",
       "  </thead>\n",
       "  <tbody>\n",
       "    <tr>\n",
       "      <th>0</th>\n",
       "      <td>not art.</td>\n",
       "      <td>0.856</td>\n",
       "      <td>0.999</td>\n",
       "      <td>0.856</td>\n",
       "      <td>0.922</td>\n",
       "    </tr>\n",
       "    <tr>\n",
       "      <th>1</th>\n",
       "      <td>art.</td>\n",
       "      <td>0.856</td>\n",
       "      <td>0.015</td>\n",
       "      <td>0.774</td>\n",
       "      <td>0.029</td>\n",
       "    </tr>\n",
       "  </tbody>\n",
       "</table>\n",
       "</div>"
      ]
     },
     "execution_count": 25,
     "metadata": {},
     "output_type": "execute_result"
    }
   ],
   "execution_count": 25
  },
  {
   "metadata": {},
   "cell_type": "markdown",
   "source": "# SPINDLE - Brown - Artifact Detection",
   "id": "a2c0c90099c8e92c"
  },
  {
   "metadata": {
    "ExecuteTime": {
     "end_time": "2024-06-12T12:42:53.814931Z",
     "start_time": "2024-06-12T12:42:53.799367Z"
    }
   },
   "cell_type": "code",
   "source": [
    "# Define the confusion matrix from the new image\n",
    "confusion_matrix = np.array([\n",
    "    [25984, 5512],\n",
    "    [5020, 6676]\n",
    "])\n",
    "\n",
    "# Extract true positives, false positives, false negatives for each class\n",
    "TP = np.diag(confusion_matrix)\n",
    "FP = np.sum(confusion_matrix, axis=0) - TP\n",
    "FN = np.sum(confusion_matrix, axis=1) - TP\n",
    "TN = np.sum(confusion_matrix) - (TP + FP + FN)\n",
    "\n",
    "# Calculate accuracy, precision, recall, and F1-score for each class\n",
    "accuracy = np.sum(TP) / np.sum(confusion_matrix)\n",
    "precision = TP / (TP + FP)\n",
    "recall = TP / (TP + FN)\n",
    "f1_score = 2 * (precision * recall) / (precision + recall)\n",
    "\n",
    "# Create a dataframe to display the results\n",
    "results = pd.DataFrame({\n",
    "    'Class': ['not art.', 'art.'],\n",
    "    'Accuracy': [accuracy] * 2,\n",
    "    'Precision': precision,\n",
    "    'Recall': recall,\n",
    "    'F1-Score': f1_score\n",
    "})\n",
    "\n",
    "round(results, 3)"
   ],
   "id": "ab55c8a3a6f80a6b",
   "outputs": [
    {
     "data": {
      "text/plain": [
       "      Class  Accuracy  Precision  Recall  F1-Score\n",
       "0  not art.     0.756      0.838   0.825     0.831\n",
       "1      art.     0.756      0.548   0.571     0.559"
      ],
      "text/html": [
       "<div>\n",
       "<style scoped>\n",
       "    .dataframe tbody tr th:only-of-type {\n",
       "        vertical-align: middle;\n",
       "    }\n",
       "\n",
       "    .dataframe tbody tr th {\n",
       "        vertical-align: top;\n",
       "    }\n",
       "\n",
       "    .dataframe thead th {\n",
       "        text-align: right;\n",
       "    }\n",
       "</style>\n",
       "<table border=\"1\" class=\"dataframe\">\n",
       "  <thead>\n",
       "    <tr style=\"text-align: right;\">\n",
       "      <th></th>\n",
       "      <th>Class</th>\n",
       "      <th>Accuracy</th>\n",
       "      <th>Precision</th>\n",
       "      <th>Recall</th>\n",
       "      <th>F1-Score</th>\n",
       "    </tr>\n",
       "  </thead>\n",
       "  <tbody>\n",
       "    <tr>\n",
       "      <th>0</th>\n",
       "      <td>not art.</td>\n",
       "      <td>0.756</td>\n",
       "      <td>0.838</td>\n",
       "      <td>0.825</td>\n",
       "      <td>0.831</td>\n",
       "    </tr>\n",
       "    <tr>\n",
       "      <th>1</th>\n",
       "      <td>art.</td>\n",
       "      <td>0.756</td>\n",
       "      <td>0.548</td>\n",
       "      <td>0.571</td>\n",
       "      <td>0.559</td>\n",
       "    </tr>\n",
       "  </tbody>\n",
       "</table>\n",
       "</div>"
      ]
     },
     "execution_count": 26,
     "metadata": {},
     "output_type": "execute_result"
    }
   ],
   "execution_count": 26
  }
 ],
 "metadata": {
  "kernelspec": {
   "display_name": "Python 3",
   "language": "python",
   "name": "python3"
  },
  "language_info": {
   "codemirror_mode": {
    "name": "ipython",
    "version": 2
   },
   "file_extension": ".py",
   "mimetype": "text/x-python",
   "name": "python",
   "nbconvert_exporter": "python",
   "pygments_lexer": "ipython2",
   "version": "2.7.6"
  }
 },
 "nbformat": 4,
 "nbformat_minor": 5
}
