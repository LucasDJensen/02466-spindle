{
 "cells": [
  {
   "metadata": {},
   "cell_type": "markdown",
   "source": "# Compute Accuracy, Precision, Recall, F1",
   "id": "34f434e946fe844a"
  },
  {
   "metadata": {
    "ExecuteTime": {
     "end_time": "2024-06-17T10:37:51.400892Z",
     "start_time": "2024-06-17T10:37:51.385880Z"
    }
   },
   "cell_type": "code",
   "source": [
    "tn = 175941\n",
    "tp = 91\n",
    "fn = 407\n",
    "fp = 74\n",
    "accuracy = (tp + tn) / (tp + tn + fp + fn)\n",
    "precision = tp / (tp + fp)\n",
    "recall = tp / (tp + fn)\n",
    "f1 = 2 * (precision * recall) / (precision + recall)\n",
    "print('Accuracy:', accuracy * 100)\n",
    "print('Precision:', precision * 100)\n",
    "print('Recall:', recall * 100)\n",
    "print('F1:', f1 * 100)"
   ],
   "id": "1163bf5aa38bc3f",
   "execution_count": 1,
   "outputs": []
  },
  {
   "metadata": {},
   "cell_type": "markdown",
   "source": [
    "Should get same number of samples as in the excel sheet under Validation (ST, S-L, Grieger) without artifacts for validation\n",
    "For test, its including the artifact column under the Test in the excel sheet"
   ],
   "id": "d12f4d139de9de51"
  },
  {
   "metadata": {},
   "cell_type": "markdown",
   "source": "# Check distribution of true labels from the embeddings",
   "id": "5383b93a920198b9"
  },
  {
   "metadata": {
    "ExecuteTime": {
     "end_time": "2024-06-17T10:37:51.416904Z",
     "start_time": "2024-06-17T10:37:51.401882Z"
    }
   },
   "cell_type": "code",
   "source": [
    "import numpy as np\n",
    "\n",
    "file = 'embeddings/true_labels.npy'\n",
    "true_labels = np.asarray(np.load(file), dtype=np.int32)\n",
    "true_labels.shape, np.sum(true_labels, axis=0)"
   ],
   "id": "26d819a25513e80d",
   "execution_count": 2,
   "outputs": []
  },
  {
   "metadata": {
    "ExecuteTime": {
     "end_time": "2024-06-17T10:37:51.448410Z",
     "start_time": "2024-06-17T10:37:51.417904Z"
    }
   },
   "cell_type": "code",
   "source": [
    "art_noart = np.array([1 if x[-1] == 1 else 0 for x in true_labels])\n",
    "art_noart.shape, art_noart.sum()"
   ],
   "id": "e6ff3399d920f00f",
   "execution_count": 3,
   "outputs": []
  },
  {
   "metadata": {},
   "cell_type": "markdown",
   "source": "# L-SeqSleepNet - Kornum - Sleep Scoring",
   "id": "c37543002c2025f4"
  },
  {
   "metadata": {
    "ExecuteTime": {
     "end_time": "2024-06-17T10:50:30.361350Z",
     "start_time": "2024-06-17T10:50:30.344846Z"
    }
   },
   "cell_type": "code",
   "source": [
    "import numpy as np\n",
    "\n",
    "# Define the confusion matrix from the image\n",
    "confusion_matrix = np.array([\n",
    "    [61730, 1487, 843],\n",
    "    [2428, 9903, 630],\n",
    "    [3230, 617, 95147]\n",
    "])\n",
    "\n",
    "# Extract true positives, false positives, false negatives for each class\n",
    "TP = np.diag(confusion_matrix)\n",
    "FP = np.sum(confusion_matrix, axis=0) - TP\n",
    "FN = np.sum(confusion_matrix, axis=1) - TP\n",
    "TN = np.sum(confusion_matrix) - (TP + FP + FN)\n",
    "\n",
    "# Calculate accuracy, precision, recall, and F1-score for each class\n",
    "accuracy = np.sum(TP) / np.sum(confusion_matrix)\n",
    "precision = TP / (TP + FP)\n",
    "recall = TP / (TP + FN)\n",
    "f1_score = 2 * (precision * recall) / (precision + recall)\n",
    "\n",
    "import pandas as pd\n",
    "\n",
    "# Create a dataframe to display the results\n",
    "results = pd.DataFrame({\n",
    "    'Class': ['NREM', 'REM', 'WAKE'],\n",
    "    'Accuracy': [accuracy] * 3,\n",
    "    'Precision': precision,\n",
    "    'Recall': recall,\n",
    "    'F1-Score': f1_score\n",
    "})\n",
    "\n",
    "# import ace_tools as tools; tools.display_dataframe_to_user(name=\"Confusion Matrix Analysis\", dataframe=results)\n",
    "\n",
    "round(results, 3)"
   ],
   "id": "bca6c3da0772bb0c",
   "execution_count": 6,
   "outputs": []
  },
  {
   "metadata": {
    "ExecuteTime": {
     "end_time": "2024-06-17T10:59:00.949619Z",
     "start_time": "2024-06-17T10:59:00.938457Z"
    }
   },
   "cell_type": "code",
   "source": "confusion_matrix",
   "id": "1607443faf8c7d05",
   "execution_count": 9,
   "outputs": []
  },
  {
   "metadata": {
    "ExecuteTime": {
     "end_time": "2024-06-17T10:56:02.430301Z",
     "start_time": "2024-06-17T10:56:02.414900Z"
    }
   },
   "cell_type": "code",
   "source": "TP, FP, FN, TN, np.sum(confusion_matrix)",
   "id": "71f7070f78bb2b1e",
   "execution_count": 8,
   "outputs": []
  },
  {
   "metadata": {},
   "cell_type": "markdown",
   "source": "# L-SeqSleepNet - Kornum - Artifact Detection",
   "id": "d79e70791f610e0b"
  },
  {
   "metadata": {
    "ExecuteTime": {
     "end_time": "2024-06-12T12:45:48.765708Z",
     "start_time": "2024-06-12T12:45:48.751203Z"
    }
   },
   "cell_type": "code",
   "source": [
    "# Define the confusion matrix from the new image\n",
    "confusion_matrix = np.array([\n",
    "    [175941, 74],\n",
    "    [407, 91]\n",
    "])\n",
    "\n",
    "# Extract true positives, false positives, false negatives for each class\n",
    "TP = np.diag(confusion_matrix)\n",
    "FP = np.sum(confusion_matrix, axis=0) - TP\n",
    "FN = np.sum(confusion_matrix, axis=1) - TP\n",
    "TN = np.sum(confusion_matrix) - (TP + FP + FN)\n",
    "\n",
    "# Calculate accuracy, precision, recall, and F1-score for each class\n",
    "accuracy = np.sum(TP) / np.sum(confusion_matrix)\n",
    "precision = TP / (TP + FP)\n",
    "recall = TP / (TP + FN)\n",
    "f1_score = 2 * (precision * recall) / (precision + recall)\n",
    "\n",
    "# Create a dataframe to display the results\n",
    "results = pd.DataFrame({\n",
    "    'Class': ['not art.', 'art.'],\n",
    "    'Accuracy': [accuracy] * 2,\n",
    "    'Precision': precision,\n",
    "    'Recall': recall,\n",
    "    'F1-Score': f1_score\n",
    "})\n",
    "\n",
    "round(results, 3)"
   ],
   "id": "46708c5f309ce3e3",
   "execution_count": 28,
   "outputs": []
  },
  {
   "metadata": {},
   "cell_type": "markdown",
   "source": "# SPINDLE - Kornum - Sleep Scoring",
   "id": "f15cf4979a50a6ce"
  },
  {
   "metadata": {
    "ExecuteTime": {
     "end_time": "2024-06-12T12:44:31.803363Z",
     "start_time": "2024-06-12T12:44:31.788020Z"
    }
   },
   "cell_type": "code",
   "source": [
    "import numpy as np\n",
    "\n",
    "# Define the confusion matrix from the image\n",
    "confusion_matrix = np.array([\n",
    "    [63992, 1281, 1153],\n",
    "    [1072, 9724, 567],\n",
    "    [3625, 847, 93709]\n",
    "])\n",
    "\n",
    "# Extract true positives, false positives, false negatives for each class\n",
    "TP = np.diag(confusion_matrix)\n",
    "FP = np.sum(confusion_matrix, axis=0) - TP\n",
    "FN = np.sum(confusion_matrix, axis=1) - TP\n",
    "TN = np.sum(confusion_matrix) - (TP + FP + FN)\n",
    "\n",
    "# Calculate accuracy, precision, recall, and F1-score for each class\n",
    "accuracy = np.sum(TP) / np.sum(confusion_matrix)\n",
    "precision = TP / (TP + FP)\n",
    "recall = TP / (TP + FN)\n",
    "f1_score = 2 * (precision * recall) / (precision + recall)\n",
    "\n",
    "import pandas as pd\n",
    "\n",
    "# Create a dataframe to display the results\n",
    "results = pd.DataFrame({\n",
    "    'Class': ['NREM', 'REM', 'WAKE'],\n",
    "    'Accuracy': [accuracy] * 3,\n",
    "    'Precision': precision,\n",
    "    'Recall': recall,\n",
    "    'F1-Score': f1_score\n",
    "})\n",
    "\n",
    "# import ace_tools as tools; tools.display_dataframe_to_user(name=\"Confusion Matrix Analysis\", dataframe=results)\n",
    "\n",
    "round(results, 3)"
   ],
   "id": "a0dfa0aa6b0aa181",
   "execution_count": 27,
   "outputs": []
  },
  {
   "metadata": {},
   "cell_type": "markdown",
   "source": "# SPINDLE - Brown - Sleep Scoring",
   "id": "624d844fc44aa7c6"
  },
  {
   "metadata": {
    "ExecuteTime": {
     "end_time": "2024-06-12T12:16:45.815918Z",
     "start_time": "2024-06-12T12:16:45.800493Z"
    }
   },
   "cell_type": "code",
   "source": [
    "import numpy as np\n",
    "\n",
    "# Define the confusion matrix from the image\n",
    "confusion_matrix = np.array([\n",
    "    [12497, 435, 118],\n",
    "    [0, 2353, 15],\n",
    "    [247, 95, 15736]\n",
    "])\n",
    "\n",
    "# Extract true positives, false positives, false negatives for each class\n",
    "TP = np.diag(confusion_matrix)\n",
    "FP = np.sum(confusion_matrix, axis=0) - TP\n",
    "FN = np.sum(confusion_matrix, axis=1) - TP\n",
    "TN = np.sum(confusion_matrix) - (TP + FP + FN)\n",
    "\n",
    "# Calculate accuracy, precision, recall, and F1-score for each class\n",
    "accuracy = np.sum(TP) / np.sum(confusion_matrix)\n",
    "precision = TP / (TP + FP)\n",
    "recall = TP / (TP + FN)\n",
    "f1_score = 2 * (precision * recall) / (precision + recall)\n",
    "\n",
    "import pandas as pd\n",
    "\n",
    "# Create a dataframe to display the results\n",
    "results = pd.DataFrame({\n",
    "    'Class': ['NREM', 'REM', 'WAKE'],\n",
    "    'Accuracy': [accuracy] * 3,\n",
    "    'Precision': precision,\n",
    "    'Recall': recall,\n",
    "    'F1-Score': f1_score\n",
    "})\n",
    "\n",
    "# import ace_tools as tools; tools.display_dataframe_to_user(name=\"Confusion Matrix Analysis\", dataframe=results)\n",
    "\n",
    "round(results, 3)"
   ],
   "id": "8bb0a9fd40431855",
   "execution_count": 18,
   "outputs": []
  },
  {
   "metadata": {},
   "cell_type": "markdown",
   "source": "# SPINDLE - Kornum - Artifact Detection",
   "id": "fb2a1d83b0bdbcbb"
  },
  {
   "metadata": {
    "ExecuteTime": {
     "end_time": "2024-06-12T12:41:13.445920Z",
     "start_time": "2024-06-12T12:41:13.429989Z"
    }
   },
   "cell_type": "code",
   "source": [
    "# Define the confusion matrix from the new image\n",
    "confusion_matrix = np.array([\n",
    "    [150683, 25287],\n",
    "    [112, 383]\n",
    "])\n",
    "\n",
    "# Extract true positives, false positives, false negatives for each class\n",
    "TP = np.diag(confusion_matrix)\n",
    "FP = np.sum(confusion_matrix, axis=0) - TP\n",
    "FN = np.sum(confusion_matrix, axis=1) - TP\n",
    "TN = np.sum(confusion_matrix) - (TP + FP + FN)\n",
    "\n",
    "# Calculate accuracy, precision, recall, and F1-score for each class\n",
    "accuracy = np.sum(TP) / np.sum(confusion_matrix)\n",
    "precision = TP / (TP + FP)\n",
    "recall = TP / (TP + FN)\n",
    "f1_score = 2 * (precision * recall) / (precision + recall)\n",
    "\n",
    "# Create a dataframe to display the results\n",
    "results = pd.DataFrame({\n",
    "    'Class': ['not art.', 'art.'],\n",
    "    'Accuracy': [accuracy] * 2,\n",
    "    'Precision': precision,\n",
    "    'Recall': recall,\n",
    "    'F1-Score': f1_score\n",
    "})\n",
    "\n",
    "round(results, 3)"
   ],
   "id": "712a8b55ae098119",
   "execution_count": 25,
   "outputs": []
  },
  {
   "metadata": {},
   "cell_type": "markdown",
   "source": "# SPINDLE - Brown - Artifact Detection",
   "id": "a2c0c90099c8e92c"
  },
  {
   "metadata": {
    "ExecuteTime": {
     "end_time": "2024-06-12T12:42:53.814931Z",
     "start_time": "2024-06-12T12:42:53.799367Z"
    }
   },
   "cell_type": "code",
   "source": [
    "# Define the confusion matrix from the new image\n",
    "confusion_matrix = np.array([\n",
    "    [25984, 5512],\n",
    "    [5020, 6676]\n",
    "])\n",
    "\n",
    "# Extract true positives, false positives, false negatives for each class\n",
    "TP = np.diag(confusion_matrix)\n",
    "FP = np.sum(confusion_matrix, axis=0) - TP\n",
    "FN = np.sum(confusion_matrix, axis=1) - TP\n",
    "TN = np.sum(confusion_matrix) - (TP + FP + FN)\n",
    "\n",
    "# Calculate accuracy, precision, recall, and F1-score for each class\n",
    "accuracy = np.sum(TP) / np.sum(confusion_matrix)\n",
    "precision = TP / (TP + FP)\n",
    "recall = TP / (TP + FN)\n",
    "f1_score = 2 * (precision * recall) / (precision + recall)\n",
    "\n",
    "# Create a dataframe to display the results\n",
    "results = pd.DataFrame({\n",
    "    'Class': ['not art.', 'art.'],\n",
    "    'Accuracy': [accuracy] * 2,\n",
    "    'Precision': precision,\n",
    "    'Recall': recall,\n",
    "    'F1-Score': f1_score\n",
    "})\n",
    "\n",
    "round(results, 3)"
   ],
   "id": "ab55c8a3a6f80a6b",
   "execution_count": 26,
   "outputs": []
  }
 ],
 "metadata": {
  "kernelspec": {
   "display_name": "Python 3",
   "language": "python",
   "name": "python3"
  },
  "language_info": {
   "codemirror_mode": {
    "name": "ipython",
    "version": 2
   },
   "file_extension": ".py",
   "mimetype": "text/x-python",
   "name": "python",
   "nbconvert_exporter": "python",
   "pygments_lexer": "ipython2",
   "version": "2.7.6"
  }
 },
 "nbformat": 4,
 "nbformat_minor": 5
}
