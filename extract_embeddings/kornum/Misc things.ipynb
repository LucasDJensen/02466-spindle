{
 "cells": [
  {
   "metadata": {},
   "cell_type": "markdown",
   "source": "# Compute Accuracy, Precision, Recall, F1",
   "id": "34f434e946fe844a"
  },
  {
   "metadata": {
    "ExecuteTime": {
     "end_time": "2024-06-04T08:15:02.302299Z",
     "start_time": "2024-06-04T08:15:02.295958Z"
    }
   },
   "cell_type": "code",
   "source": [
    "tn = 175941\n",
    "tp = 91\n",
    "fn = 407\n",
    "fp = 74\n",
    "accuracy = (tp + tn) / (tp + tn + fp + fn)\n",
    "precision = tp / (tp + fp)\n",
    "recall = tp / (tp + fn)\n",
    "f1 = 2 * (precision * recall) / (precision + recall)\n",
    "print('Accuracy:', accuracy * 100)\n",
    "print('Precision:', precision * 100)\n",
    "print('Recall:', recall * 100)\n",
    "print('F1:', f1 * 100)"
   ],
   "id": "1163bf5aa38bc3f",
   "outputs": [
    {
     "name": "stdout",
     "output_type": "stream",
     "text": [
      "Accuracy: 99.72749882444919\n",
      "Precision: 55.15151515151515\n",
      "Recall: 18.27309236947791\n",
      "F1: 27.45098039215686\n"
     ]
    }
   ],
   "execution_count": 5
  },
  {
   "metadata": {},
   "cell_type": "markdown",
   "source": [
    "Should get same number of samples as in the excel sheet under Validation (ST, S-L, Grieger) without artifacts for validation\n",
    "For test, its including the artifact column under the Test in the excel sheet"
   ],
   "id": "d12f4d139de9de51"
  },
  {
   "metadata": {},
   "cell_type": "markdown",
   "source": "# Check distribution of true labels from the embeddings",
   "id": "5383b93a920198b9"
  },
  {
   "metadata": {
    "ExecuteTime": {
     "end_time": "2024-06-12T09:20:09.702711Z",
     "start_time": "2024-06-12T09:20:09.687086Z"
    }
   },
   "cell_type": "code",
   "source": [
    "import numpy as np\n",
    "\n",
    "file = 'embeddings/true_labels.npy'\n",
    "true_labels = np.asarray(np.load(file), dtype=np.int32)\n",
    "true_labels.shape, np.sum(true_labels, axis=0)"
   ],
   "id": "26d819a25513e80d",
   "outputs": [
    {
     "data": {
      "text/plain": [
       "((176700, 4), array([66426, 11363, 98181,   495]))"
      ]
     },
     "execution_count": 4,
     "metadata": {},
     "output_type": "execute_result"
    }
   ],
   "execution_count": 4
  },
  {
   "metadata": {
    "ExecuteTime": {
     "end_time": "2024-06-12T09:20:11.867381Z",
     "start_time": "2024-06-12T09:20:11.820569Z"
    }
   },
   "cell_type": "code",
   "source": [
    "art_noart = np.array([1 if x[-1] == 1 else 0 for x in true_labels])\n",
    "art_noart.shape, art_noart.sum()"
   ],
   "id": "e6ff3399d920f00f",
   "outputs": [
    {
     "data": {
      "text/plain": [
       "((176700,), 495)"
      ]
     },
     "execution_count": 5,
     "metadata": {},
     "output_type": "execute_result"
    }
   ],
   "execution_count": 5
  }
 ],
 "metadata": {
  "kernelspec": {
   "display_name": "Python 3",
   "language": "python",
   "name": "python3"
  },
  "language_info": {
   "codemirror_mode": {
    "name": "ipython",
    "version": 2
   },
   "file_extension": ".py",
   "mimetype": "text/x-python",
   "name": "python",
   "nbconvert_exporter": "python",
   "pygments_lexer": "ipython2",
   "version": "2.7.6"
  }
 },
 "nbformat": 4,
 "nbformat_minor": 5
}
