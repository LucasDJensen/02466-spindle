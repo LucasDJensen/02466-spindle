{
 "cells": [
  {
   "metadata": {},
   "cell_type": "markdown",
   "source": "# Check distribution of true labels from the embeddings",
   "id": "5383b93a920198b9"
  },
  {
   "metadata": {
    "ExecuteTime": {
     "end_time": "2024-06-21T09:17:22.696800Z",
     "start_time": "2024-06-21T09:17:22.681646Z"
    }
   },
   "cell_type": "code",
   "source": [
    "import numpy as np\n",
    "\n",
    "file = 'kornum/embeddings/true_labels.npy'\n",
    "true_labels = np.asarray(np.load(file), dtype=np.int32)\n",
    "true_labels.shape, np.sum(true_labels, axis=0)"
   ],
   "id": "26d819a25513e80d",
   "outputs": [
    {
     "data": {
      "text/plain": [
       "((176700, 4), array([66426, 11363, 98181,   495]))"
      ]
     },
     "execution_count": 1,
     "metadata": {},
     "output_type": "execute_result"
    }
   ],
   "execution_count": 1
  },
  {
   "metadata": {
    "ExecuteTime": {
     "end_time": "2024-06-21T09:17:22.728263Z",
     "start_time": "2024-06-21T09:17:22.696800Z"
    }
   },
   "cell_type": "code",
   "source": [
    "art_noart = np.array([1 if x[-1] == 1 else 0 for x in true_labels])\n",
    "art_noart.shape, art_noart.sum()"
   ],
   "id": "e6ff3399d920f00f",
   "outputs": [
    {
     "data": {
      "text/plain": [
       "((176700,), 495)"
      ]
     },
     "execution_count": 2,
     "metadata": {},
     "output_type": "execute_result"
    }
   ],
   "execution_count": 2
  }
 ],
 "metadata": {
  "kernelspec": {
   "display_name": "Python 3",
   "language": "python",
   "name": "python3"
  },
  "language_info": {
   "codemirror_mode": {
    "name": "ipython",
    "version": 2
   },
   "file_extension": ".py",
   "mimetype": "text/x-python",
   "name": "python",
   "nbconvert_exporter": "python",
   "pygments_lexer": "ipython2",
   "version": "2.7.6"
  }
 },
 "nbformat": 4,
 "nbformat_minor": 5
}
